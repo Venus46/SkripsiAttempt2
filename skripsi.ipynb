{
 "cells": [
  {
   "cell_type": "code",
   "execution_count": null,
   "id": "63763cb6-9251-4699-a007-df6e8011308b",
   "metadata": {},
   "outputs": [],
   "source": [
    "from PIL import Image\n",
    "image =  Image.new('RGB', (1000, 1000), (255, 255, 255))\n",
    "image.show()\n",
    "image.save('test.png', 'PNG')"
   ]
  },
  {
   "cell_type": "code",
   "execution_count": 9,
   "id": "774fddba-ecce-4b76-ac55-40304791b345",
   "metadata": {},
   "outputs": [],
   "source": [
    "from PIL import Image\n",
    "im = Image.open(r'C:\\Users\\USER\\Skripsi\\bent_image.png')\n",
    "imr = im.rotate(45)\n",
    "imrb = imr.rotate(30)\n",
    "imrb.show()"
   ]
  },
  {
   "cell_type": "code",
   "execution_count": 10,
   "id": "50a4569e-8975-450a-bdef-2309fa5f1331",
   "metadata": {},
   "outputs": [],
   "source": [
    "import cv2\n",
    "import numpy as np\n",
    "\n",
    "# Load the source image\n",
    "image_path = r'C:\\Users\\USER\\test.png'  # Use 'r' before the path to interpret it as a raw string\n",
    "img = cv2.imread(image_path)\n",
    "\n",
    "# Define the transformation matrix for y-axis warping\n",
    "M = np.float32([[1, 0, 0],       # No change along x-axis\n",
    "                [0.5, 1, 0],     # Scale y-axis by 0.2\n",
    "                [0, 0, 1]])      # Homogeneous coordinate\n",
    "\n",
    "# Apply the perspective transformation\n",
    "rows, cols, _ = img.shape\n",
    "warped_img = cv2.warpPerspective(img, M, (cols, rows))\n",
    "\n",
    "# Display the original and warped images\n",
    "cv2.imshow('Original Image', img)\n",
    "cv2.imshow('Warped Image (Y-axis)', warped_img)\n",
    "cv2.waitKey(0)\n",
    "cv2.destroyAllWindows()\n"
   ]
  },
  {
   "cell_type": "code",
   "execution_count": 12,
   "id": "4a6ce901-3acd-47f2-92a1-4f9a306de333",
   "metadata": {},
   "outputs": [],
   "source": [
    "from PIL import Image\n",
    "img = Image.open(r'C:\\Users\\USER\\Skripsi\\test_rainbow.png')\n",
    "img.show()"
   ]
  },
  {
   "cell_type": "code",
   "execution_count": 7,
   "id": "1b2edd18-9ee7-430e-8436-fa96f1421f83",
   "metadata": {},
   "outputs": [],
   "source": [
    "import cv2\n",
    "import numpy as np\n",
    "\n",
    "# Create a white blank image\n",
    "height, width = 1000, 1000\n",
    "image = np.ones((height, width, 3), dtype=np.uint8) * 255\n",
    "\n",
    "# Calculate control points for perspective transformation\n",
    "control_points = np.array([[0, 0], [width // 3, 0], [2 * width // 3, height], [width, height]], dtype=np.float32)\n",
    "\n",
    "# Create the perspective transformation matrix\n",
    "M = cv2.getPerspectiveTransform(control_points, control_points)\n",
    "\n",
    "# Apply the perspective transformation\n",
    "bent_img = cv2.warpPerspective(image, M, (width, height))\n",
    "\n",
    "# Display and save the bent image\n",
    "cv2.imshow('Bent Image', bent_img)\n",
    "cv2.imwrite('bent_image.png', bent_img)\n",
    "\n",
    "cv2.waitKey(0)\n",
    "cv2.destroyAllWindows()\n"
   ]
  },
  {
   "cell_type": "code",
   "execution_count": null,
   "id": "30ad09d1-acd0-41e4-aa7b-0a5c00e188d9",
   "metadata": {},
   "outputs": [],
   "source": [
    "#bend downward\n",
    "import cv2\n",
    "import numpy as np\n",
    "\n",
    "def bend_image(image, bend_factor):\n",
    "    height, width, _ = image.shape\n",
    "    bent_img = np.zeros_like(image)\n",
    "\n",
    "    for y in range(height):\n",
    "        for x in range(width):\n",
    "            new_x = x\n",
    "            new_y = int(y + bend_factor * x * (width - x) / width)\n",
    "            if 0 <= new_x < width and 0 <= new_y < height:\n",
    "                bent_img[new_y, new_x] = image[y, x]\n",
    "\n",
    "    return bent_img\n",
    "\n",
    "# Create a white blank image\n",
    "height, width = 1000, 1000\n",
    "image = np.ones((height, width, 3), dtype=np.uint8) * 255\n",
    "\n",
    "# Apply bending effect\n",
    "bend_factor = 0.3  # Adjust this value for desired bending\n",
    "bent_img = bend_image(image, bend_factor)\n",
    "\n",
    "# Display and save the bent image\n",
    "cv2.imshow('Bent Image', bent_img)\n",
    "cv2.imwrite('bent_image.png', bent_img)\n",
    "\n",
    "cv2.waitKey(0)\n",
    "cv2.destroyAllWindows()\n"
   ]
  },
  {
   "cell_type": "code",
   "execution_count": 1,
   "id": "754b9f4e-76fa-4a57-a5ce-175058aaf4aa",
   "metadata": {},
   "outputs": [],
   "source": [
    "#bend upward\n",
    "import cv2\n",
    "import numpy as np\n",
    "import random\n",
    "\n",
    "def bend_image(image, bend_factor):\n",
    "    height, width, _ = image.shape\n",
    "    bent_img = np.zeros_like(image)\n",
    "\n",
    "    for y in range(height):\n",
    "        for x in range(width):\n",
    "            new_x = x\n",
    "            new_y = int(y - bend_factor * x * (width - x) / width)\n",
    "            if 0 <= new_x < width and 0 <= new_y < height:\n",
    "                bent_img[new_y, new_x] = image[y, x]\n",
    "\n",
    "    return bent_img\n",
    "\n",
    "# Create a white blank image\n",
    "height, width = 1000, 1000\n",
    "image = np.ones((height, width, 3), dtype=np.uint8) * 255\n",
    "\n",
    "# Apply bending effect (upward)\n",
    "bu = random.uniform(0, 2)\n",
    "bend_factor = bu # Adjust this value for desired bending\n",
    "bent_img = bend_image(image, bend_factor)\n",
    "\n",
    "# Display and save the bent image\n",
    "cv2.imshow('Bent Image', bent_img)\n",
    "cv2.imwrite('bent_image_upward.png', bent_img)\n",
    "\n",
    "cv2.waitKey(0)\n",
    "cv2.destroyAllWindows()\n"
   ]
  },
  {
   "cell_type": "code",
   "execution_count": null,
   "id": "dda02a77-76ae-47f5-b77d-0045dc6b0899",
   "metadata": {},
   "outputs": [],
   "source": [
    "import cv2\n",
    "import numpy as np\n",
    "\n",
    "# Create a white blank image\n",
    "height, width = 1000, 1000\n",
    "image = np.ones((height, width, 3), dtype=np.uint8) * 255\n",
    "\n",
    "# Define the offset amount along the y-axis (in pixels)\n",
    "offset = 200\n",
    "\n",
    "# Split the image into two halves\n",
    "left_half = image[:, :width // 2]\n",
    "right_half = image[:, width // 2:]\n",
    "\n",
    "# Create a black canvas for the offset side\n",
    "offset_side = np.zeros_like(right_half)\n",
    "\n",
    "# Offset the offset_side along the y-axis\n",
    "offset_side[offset:, :] = right_half[:-offset, :]\n",
    "\n",
    "# Combine the left_half and the offset_side\n",
    "result_image = np.hstack((left_half, offset_side))\n",
    "\n",
    "# Save and display the result image\n",
    "cv2.imshow('Result Image', result_image)\n",
    "cv2.waitKey(0)\n",
    "cv2.destroyAllWindows()\n"
   ]
  },
  {
   "cell_type": "code",
   "execution_count": 4,
   "id": "2bd679b7-79bc-4037-bc35-8aaff32e57c8",
   "metadata": {},
   "outputs": [
    {
     "ename": "error",
     "evalue": "OpenCV(4.6.0) :-1: error: (-5:Bad argument) in function 'imshow'\n> Overload resolution failed:\n>  - imshow() missing required argument 'mat' (pos 2)\n>  - imshow() missing required argument 'mat' (pos 2)\n>  - imshow() missing required argument 'mat' (pos 2)\n",
     "output_type": "error",
     "traceback": [
      "\u001b[1;31m---------------------------------------------------------------------------\u001b[0m",
      "\u001b[1;31merror\u001b[0m                                     Traceback (most recent call last)",
      "Cell \u001b[1;32mIn[4], line 7\u001b[0m\n\u001b[0;32m      3\u001b[0m \u001b[38;5;28;01mimport\u001b[39;00m \u001b[38;5;21;01mnumpy\u001b[39;00m \u001b[38;5;28;01mas\u001b[39;00m \u001b[38;5;21;01mnp\u001b[39;00m\n\u001b[0;32m      5\u001b[0m image \u001b[38;5;241m=\u001b[39m np\u001b[38;5;241m.\u001b[39mones((\u001b[38;5;241m2000\u001b[39m, \u001b[38;5;241m2000\u001b[39m, \u001b[38;5;241m3\u001b[39m), dtype\u001b[38;5;241m=\u001b[39mnp\u001b[38;5;241m.\u001b[39muint8) \u001b[38;5;241m*\u001b[39m \u001b[38;5;241m255\u001b[39m\n\u001b[1;32m----> 7\u001b[0m \u001b[43mcv2\u001b[49m\u001b[38;5;241;43m.\u001b[39;49m\u001b[43mimshow\u001b[49m\u001b[43m(\u001b[49m\u001b[43mimage\u001b[49m\u001b[43m)\u001b[49m\n\u001b[0;32m      8\u001b[0m cv2\u001b[38;5;241m.\u001b[39mwaitKey(\u001b[38;5;241m0\u001b[39m)\n\u001b[0;32m      9\u001b[0m cv2\u001b[38;5;241m.\u001b[39mdestroyAllWindows()\n",
      "\u001b[1;31merror\u001b[0m: OpenCV(4.6.0) :-1: error: (-5:Bad argument) in function 'imshow'\n> Overload resolution failed:\n>  - imshow() missing required argument 'mat' (pos 2)\n>  - imshow() missing required argument 'mat' (pos 2)\n>  - imshow() missing required argument 'mat' (pos 2)\n"
     ]
    }
   ],
   "source": [
    "#skripsi algorithm\n",
    "import cv2\n",
    "import numpy as np\n",
    "\n",
    "image = np.ones((2000, 2000, 3), dtype=np.uint8) * 255\n",
    "\n",
    "cv2.imshow(image)\n",
    "cv2.waitKey(0)\n",
    "cv2.destroyAllWindows()"
   ]
  },
  {
   "cell_type": "code",
   "execution_count": null,
   "id": "0128bc54-161f-41cb-b3c8-72019eb5a137",
   "metadata": {},
   "outputs": [],
   "source": []
  }
 ],
 "metadata": {
  "kernelspec": {
   "display_name": "Python 3 (ipykernel)",
   "language": "python",
   "name": "python3"
  },
  "language_info": {
   "codemirror_mode": {
    "name": "ipython",
    "version": 3
   },
   "file_extension": ".py",
   "mimetype": "text/x-python",
   "name": "python",
   "nbconvert_exporter": "python",
   "pygments_lexer": "ipython3",
   "version": "3.10.9"
  }
 },
 "nbformat": 4,
 "nbformat_minor": 5
}
